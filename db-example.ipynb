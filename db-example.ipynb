{
 "cells": [
  {
   "cell_type": "code",
   "execution_count": 4,
   "metadata": {},
   "outputs": [],
   "source": [
    "import google.generativeai as genai\n",
    "import yaml\n",
    "with open('config.yaml', 'r') as f:\n",
    "    config = yaml.safe_load(f)\n",
    "GEMINI_API_KEY = config['GEMINI_API_KEY']\n",
    "genai.configure(api_key=GEMINI_API_KEY)"
   ]
  },
  {
   "cell_type": "code",
   "execution_count": 5,
   "metadata": {},
   "outputs": [],
   "source": [
    "def save_file(filename: str, content: str) -> str:\n",
    "    \"\"\"\n",
    "    Saves raw text in the content string to a file specified by filename string\n",
    "    \"\"\"\n",
    "    with open(filename, 'w') as f:\n",
    "        f.write(content)"
   ]
  },
  {
   "cell_type": "code",
   "execution_count": 6,
   "metadata": {},
   "outputs": [],
   "source": [
    "PROMPT = \"\"\"\n",
    "<Task> Design a SqlLite database for my university course website </Task>\n",
    "<SubTasks> \n",
    "    <1> Decide a suitable database schema for my use-case. Think step by step for my requirements, and identify important attributes for my use case.\n",
    "        We need to store lecture no, description of lecture, course title, and lecture title, and we need a single database that will work for all my current and future courses. </1>\n",
    "    <2> After deciding upon schema, you will have to use SqlLite schema to generate the database. Add this to your python scripty </2>\n",
    "    <3> Think hard for good design pattern and right way before creating the database, you need to populate sample data in the database as well. For this make sure to add this to script for this as well </3>\n",
    "    <4> Write a final python script that will do the required tasks, save it using save_file tool.</4>\n",
    "</SubTasks>\n",
    "<Tools>save_file</Tools>\n",
    "\"\"\""
   ]
  },
  {
   "cell_type": "code",
   "execution_count": 7,
   "metadata": {},
   "outputs": [
    {
     "data": {
      "text/plain": [
       "response:\n",
       "GenerateContentResponse(\n",
       "    done=True,\n",
       "    iterator=None,\n",
       "    result=protos.GenerateContentResponse({\n",
       "      \"candidates\": [\n",
       "        {\n",
       "          \"content\": {\n",
       "            \"parts\": [\n",
       "              {\n",
       "                \"text\": \"The Python script has been saved to `course_database.py`. You can now run this script to create the SQLite database `course_website.db` and populate it with the sample data.\\n\"\n",
       "              }\n",
       "            ],\n",
       "            \"role\": \"model\"\n",
       "          },\n",
       "          \"finish_reason\": \"STOP\",\n",
       "          \"avg_logprobs\": -0.10550079113099634\n",
       "        }\n",
       "      ],\n",
       "      \"usage_metadata\": {\n",
       "        \"prompt_token_count\": 2202,\n",
       "        \"candidates_token_count\": 41,\n",
       "        \"total_token_count\": 2243\n",
       "      }\n",
       "    }),\n",
       ")"
      ]
     },
     "execution_count": 7,
     "metadata": {},
     "output_type": "execute_result"
    }
   ],
   "source": [
    "model = genai.GenerativeModel('gemini-2.0-flash-exp',tools=[save_file])\n",
    "chat = model.start_chat(enable_automatic_function_calling=True)\n",
    "chat.send_message(PROMPT)"
   ]
  },
  {
   "cell_type": "code",
   "execution_count": 85,
   "metadata": {},
   "outputs": [
    {
     "name": "stdout",
     "output_type": "stream",
     "text": [
      "Database created and populated successfully.\n"
     ]
    }
   ],
   "source": [
    "!python create_university_database.py"
   ]
  },
  {
   "cell_type": "code",
   "execution_count": 1,
   "metadata": {},
   "outputs": [
    {
     "data": {
      "text/plain": [
       "[{'name': 'courses',\n",
       "  'type': 'table',\n",
       "  'sql': 'CREATE TABLE courses (\\n            course_id INTEGER PRIMARY KEY AUTOINCREMENT,\\n            course_title TEXT NOT NULL\\n        )'},\n",
       " {'name': 'sqlite_sequence',\n",
       "  'type': 'table',\n",
       "  'sql': 'CREATE TABLE sqlite_sequence(name,seq)'},\n",
       " {'name': 'lectures',\n",
       "  'type': 'table',\n",
       "  'sql': 'CREATE TABLE lectures (\\n            lecture_id INTEGER PRIMARY KEY AUTOINCREMENT,\\n            course_id INTEGER NOT NULL,\\n            lecture_no INTEGER,\\n            lecture_title TEXT NOT NULL,\\n            lecture_description TEXT,\\n            FOREIGN KEY (course_id) REFERENCES courses (course_id)\\n        )'}]"
      ]
     },
     "execution_count": 1,
     "metadata": {},
     "output_type": "execute_result"
    }
   ],
   "source": [
    "# In this cell, we extract the schema from a db file along with field names as well as the exact commands that create the table to extract its properties\n",
    "import sqlite3\n",
    "import json\n",
    "\n",
    "dbname = 'course_website.db'\n",
    "output_file = 'db_schema.json'\n",
    "\n",
    "# Connect to the database and extract schema\n",
    "with sqlite3.connect(dbname) as con:\n",
    "    cursor = con.cursor()\n",
    "    cursor.execute(\"SELECT name, type, sql FROM sqlite_master WHERE type IN ('table', 'index', 'view')\")\n",
    "    \n",
    "    schema_info = []\n",
    "    for row in cursor.fetchall():\n",
    "        schema_info.append({\n",
    "            \"name\": row[0],  # Table, Index, or View name\n",
    "            \"type\": row[1],  # 'table', 'index', or 'view'\n",
    "            \"sql\": row[2]    # SQL statement to create the object\n",
    "        })\n",
    "\n",
    "    cursor.close()\n",
    "\n",
    "schema_info\n"
   ]
  },
  {
   "cell_type": "code",
   "execution_count": 2,
   "metadata": {},
   "outputs": [
    {
     "name": "stdout",
     "output_type": "stream",
     "text": [
      "All Courses:\n",
      "Course ID: 1, Title: Introduction to Computer Science\n",
      "Course ID: 2, Title: Data Structures and Algorithms\n",
      "\n",
      "All Lectures:\n",
      "Lecture ID: 1, Course ID: 1, Lecture No: 1, Title: Introduction to Programming, Description: Overview of programming concepts.\n",
      "Lecture ID: 2, Course ID: 1, Lecture No: 2, Title: Data Types and Variables, Description: Understanding different data types and variables.\n",
      "Lecture ID: 3, Course ID: 2, Lecture No: 1, Title: Introduction to Data Structures, Description: Overview of data structures.\n",
      "Lecture ID: 4, Course ID: 2, Lecture No: 2, Title: Arrays and Linked Lists, Description: Detailed explanation of arrays and linked lists.\n",
      "\n",
      "Lectures for Course ID 1:\n",
      "Lecture ID: 1, Course ID: 1, Lecture No: 1, Title: Introduction to Programming, Description: Overview of programming concepts.\n",
      "Lecture ID: 2, Course ID: 1, Lecture No: 2, Title: Data Types and Variables, Description: Understanding different data types and variables.\n"
     ]
    }
   ],
   "source": [
    "# Connect to the database\n",
    "with sqlite3.connect(dbname) as con:\n",
    "    cursor = con.cursor()\n",
    "    \n",
    "    # Get all courses\n",
    "    print(\"All Courses:\")\n",
    "    cursor.execute(\"SELECT * FROM courses\")\n",
    "    courses = cursor.fetchall()\n",
    "    for course in courses:\n",
    "        print(f\"Course ID: {course[0]}, Title: {course[1]}\")\n",
    "    \n",
    "    print(\"\\nAll Lectures:\")\n",
    "    # Get all lectures\n",
    "    cursor.execute(\"SELECT * FROM lectures\")\n",
    "    lectures = cursor.fetchall()\n",
    "    for lecture in lectures:\n",
    "        print(f\"Lecture ID: {lecture[0]}, Course ID: {lecture[1]}, \" \n",
    "              f\"Lecture No: {lecture[2]}, Title: {lecture[3]}, \"\n",
    "              f\"Description: {lecture[4]}\")\n",
    "    \n",
    "    print(\"\\nLectures for Course ID 1:\")\n",
    "    # Get lectures for course_id = 1\n",
    "    cursor.execute(\"SELECT * FROM lectures WHERE course_id = 1\")\n",
    "    course_1_lectures = cursor.fetchall()\n",
    "    for lecture in course_1_lectures:\n",
    "        print(f\"Lecture ID: {lecture[0]}, Course ID: {lecture[1]}, \"\n",
    "              f\"Lecture No: {lecture[2]}, Title: {lecture[3]}, \"\n",
    "              f\"Description: {lecture[4]}\")\n"
   ]
  },
  {
   "cell_type": "code",
   "execution_count": 3,
   "metadata": {},
   "outputs": [
    {
     "name": "stdout",
     "output_type": "stream",
     "text": [
      "All Courses:\n",
      "Course ID: 1, Title: Introduction to Computer Science\n",
      "Course ID: 2, Title: Data Structures and Algorithms\n",
      "\n",
      "All Lectures:\n",
      "Lecture ID: 1, Course ID: 1, Lecture No: 1, Title: Introduction to Programming, Description: Overview of programming concepts.\n",
      "Lecture ID: 2, Course ID: 1, Lecture No: 2, Title: Data Types and Variables, Description: Understanding different data types and variables.\n",
      "Lecture ID: 3, Course ID: 2, Lecture No: 1, Title: Introduction to Data Structures, Description: Overview of data structures.\n",
      "Lecture ID: 4, Course ID: 2, Lecture No: 2, Title: Arrays and Linked Lists, Description: Detailed explanation of arrays and linked lists.\n",
      "\n",
      "Lectures for Course ID 1:\n",
      "Lecture ID: 1, Course ID: 1, Lecture No: 1, Title: Introduction to Programming, Description: Overview of programming concepts.\n",
      "Lecture ID: 2, Course ID: 1, Lecture No: 2, Title: Data Types and Variables, Description: Understanding different data types and variables.\n"
     ]
    },
    {
     "name": "stderr",
     "output_type": "stream",
     "text": [
      "/var/folders/13/p2nn0qmx63b6w_67cmcm1y7w0000gp/T/ipykernel_84387/4154301665.py:13: MovedIn20Warning: The ``declarative_base()`` function is now available as sqlalchemy.orm.declarative_base(). (deprecated since: 2.0) (Background on SQLAlchemy 2.0 at: https://sqlalche.me/e/b8d9)\n",
      "  Base = declarative_base()\n"
     ]
    }
   ],
   "source": [
    "from sqlalchemy import create_engine\n",
    "from sqlalchemy.orm import sessionmaker\n",
    "from sqlalchemy.ext.declarative import declarative_base\n",
    "from sqlalchemy import Column, Integer, String, ForeignKey\n",
    "from sqlalchemy.orm import relationship\n",
    "\n",
    "# Create engine and session\n",
    "engine = create_engine('sqlite:///course_website.db')\n",
    "Session = sessionmaker(bind=engine)\n",
    "session = Session()\n",
    "\n",
    "# Define models\n",
    "Base = declarative_base()\n",
    "\n",
    "class Course(Base):\n",
    "    __tablename__ = 'courses'\n",
    "    \n",
    "    course_id = Column(Integer, primary_key=True, autoincrement=True)\n",
    "    course_title = Column(String, nullable=False)\n",
    "    lectures = relationship(\"Lecture\", back_populates=\"course\")\n",
    "\n",
    "class Lecture(Base):\n",
    "    __tablename__ = 'lectures'\n",
    "    \n",
    "    lecture_id = Column(Integer, primary_key=True, autoincrement=True)\n",
    "    course_id = Column(Integer, ForeignKey('courses.course_id'), nullable=False)\n",
    "    lecture_no = Column(Integer)\n",
    "    lecture_title = Column(String, nullable=False)\n",
    "    lecture_description = Column(String)\n",
    "    course = relationship(\"Course\", back_populates=\"lectures\")\n",
    "\n",
    "# Query the database\n",
    "print(\"All Courses:\")\n",
    "courses = session.query(Course).all()\n",
    "for course in courses:\n",
    "    print(f\"Course ID: {course.course_id}, Title: {course.course_title}\")\n",
    "\n",
    "print(\"\\nAll Lectures:\")\n",
    "lectures = session.query(Lecture).all()\n",
    "for lecture in lectures:\n",
    "    print(f\"Lecture ID: {lecture.lecture_id}, Course ID: {lecture.course_id}, \"\n",
    "          f\"Lecture No: {lecture.lecture_no}, Title: {lecture.lecture_title}, \"\n",
    "          f\"Description: {lecture.lecture_description}\")\n",
    "\n",
    "print(\"\\nLectures for Course ID 1:\")\n",
    "course_1_lectures = session.query(Lecture).filter(Lecture.course_id == 1).all()\n",
    "for lecture in course_1_lectures:\n",
    "    print(f\"Lecture ID: {lecture.lecture_id}, Course ID: {lecture.course_id}, \"\n",
    "          f\"Lecture No: {lecture.lecture_no}, Title: {lecture.lecture_title}, \"\n",
    "          f\"Description: {lecture.lecture_description}\")\n",
    "\n",
    "session.close()\n"
   ]
  }
 ],
 "metadata": {
  "kernelspec": {
   "display_name": "webdevai",
   "language": "python",
   "name": "python3"
  },
  "language_info": {
   "codemirror_mode": {
    "name": "ipython",
    "version": 3
   },
   "file_extension": ".py",
   "mimetype": "text/x-python",
   "name": "python",
   "nbconvert_exporter": "python",
   "pygments_lexer": "ipython3",
   "version": "3.12.8"
  }
 },
 "nbformat": 4,
 "nbformat_minor": 2
}
