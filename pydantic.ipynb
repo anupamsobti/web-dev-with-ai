{
 "cells": [
  {
   "cell_type": "markdown",
   "metadata": {},
   "source": [
    "In this notebook, we will demonstrate how to use FastAPI for HTTP Requests. We will demonstrate access to a postgres database. But first, let's see what type hints are.."
   ]
  },
  {
   "cell_type": "code",
   "execution_count": 1,
   "metadata": {},
   "outputs": [
    {
     "name": "stdout",
     "output_type": "stream",
     "text": [
      "Hello Anupam Sobti\n"
     ]
    }
   ],
   "source": [
    "def say_hello(first_name, last_name):\n",
    "    print(\"Hello\", first_name, last_name)\n",
    "\n",
    "say_hello(\"Anupam\", \"Sobti\")"
   ]
  },
  {
   "cell_type": "markdown",
   "metadata": {},
   "source": [
    "Currently, we didn't get any editor support. But let's give it some hints."
   ]
  },
  {
   "cell_type": "code",
   "execution_count": 12,
   "metadata": {},
   "outputs": [
    {
     "name": "stdout",
     "output_type": "stream",
     "text": [
      "Hello Anupam Sobti\n",
      "Hello 23 years old Anupam\n",
      "Hi 23 year old Anupam\n",
      "Hi 2 year old Sahaj\n",
      "Hi Anupam! You are now 23\n"
     ]
    }
   ],
   "source": [
    "# There are simple ways of getting more editor support and type specification in Python. Of course, you can do both fixed data types as well as unions\n",
    "def say_hello(first_name:str, last_name: str | None):\n",
    "    print(\"Hello\", first_name.capitalize(), last_name.capitalize())\n",
    "\n",
    "# When you do mixed data types, editors also flag possible errors\n",
    "def tell_me_your_age(name: str, age:int):\n",
    "    print(\"Hello\", age, \"years old\", name)\n",
    "\n",
    "# you can also specify subtypes for generic types such as dict, list, set, etc.\n",
    "def hi_to_the_group(group: dict[str, int]):\n",
    "    for x in group:\n",
    "        print(\"Hi\", group[x], \"year old\", x)\n",
    "\n",
    "# objects of a certain class are also valid types\n",
    "class Person:\n",
    "    def __init__(self, name: str, age: int) -> None:\n",
    "        self.name = name\n",
    "        self.age = age\n",
    "def hi_person(the_person: Person):\n",
    "    print(\"Hi\", the_person.name.capitalize() + \"! You are now\", the_person.age)\n",
    "\n",
    "say_hello(\"anupam\", \"sobti\")\n",
    "tell_me_your_age(\"Anupam\", 23)\n",
    "hi_to_the_group({\"Anupam\": 23, \"Sahaj\": 2})\n",
    "anupam = Person(\"anupam\", 23)\n",
    "hi_person(anupam)"
   ]
  },
  {
   "cell_type": "markdown",
   "metadata": {},
   "source": [
    "So, while all this is natively supported, there's more that can be done with the library called Pydantic."
   ]
  },
  {
   "cell_type": "code",
   "execution_count": 16,
   "metadata": {},
   "outputs": [
    {
     "name": "stdout",
     "output_type": "stream",
     "text": [
      "id=123 name='Web Dev with AI' signup_ts=datetime.datetime(2017, 6, 1, 12, 22) prereqs=[1, 2, 3]\n",
      "123\n"
     ]
    }
   ],
   "source": [
    "from datetime import datetime\n",
    "\n",
    "from pydantic import BaseModel\n",
    "\n",
    "\n",
    "class Course(BaseModel):\n",
    "    id: int\n",
    "    name: str = \"Web Dev with AI\"\n",
    "    signup_ts: datetime | None = None\n",
    "    prereqs: list[int] = []\n",
    "\n",
    "\n",
    "external_data = {\n",
    "    \"id\": \"123\",\n",
    "    \"signup_ts\": \"2017-06-01 12:22\",\n",
    "    \"prereqs\": [1, \"2\", b\"3\"],\n",
    "}\n",
    "awesome_course = Course(**external_data)\n",
    "print(awesome_course)\n",
    "print(awesome_course.id)"
   ]
  },
  {
   "cell_type": "code",
   "execution_count": 17,
   "metadata": {},
   "outputs": [
    {
     "name": "stdout",
     "output_type": "stream",
     "text": [
      "Anupam sobti\n"
     ]
    }
   ],
   "source": [
    "#One can also pass additional metadata through the Annotate type\n",
    "from typing import Annotated\n",
    "\n",
    "def say_hello(name: Annotated[str, \"This expects the full name\"]):\n",
    "    print(name.capitalize())\n",
    "\n",
    "say_hello(\"anupam sobti\")"
   ]
  },
  {
   "cell_type": "markdown",
   "metadata": {},
   "source": [
    "Please refer to the fast api demo files for an introduction to FastAPI."
   ]
  }
 ],
 "metadata": {
  "kernelspec": {
   "display_name": "webdevai",
   "language": "python",
   "name": "python3"
  },
  "language_info": {
   "codemirror_mode": {
    "name": "ipython",
    "version": 3
   },
   "file_extension": ".py",
   "mimetype": "text/x-python",
   "name": "python",
   "nbconvert_exporter": "python",
   "pygments_lexer": "ipython3",
   "version": "3.12.8"
  }
 },
 "nbformat": 4,
 "nbformat_minor": 2
}
