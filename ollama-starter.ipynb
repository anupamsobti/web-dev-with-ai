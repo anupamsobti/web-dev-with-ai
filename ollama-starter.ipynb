{
 "cells": [
  {
   "cell_type": "markdown",
   "metadata": {},
   "source": [
    "# Using Ollama via ollama-python Package\n",
    "\n",
    "Install the `ollama-python` package\n",
    "\n",
    "Make sure Ollama is running in the background. If not, use the following command in the terminal to start it:\n",
    "\n",
    "```sh\n",
    "ollama serve\n",
    "```"
   ]
  },
  {
   "cell_type": "code",
   "execution_count": 1,
   "metadata": {},
   "outputs": [],
   "source": [
    "from ollama import chat,ChatResponse"
   ]
  },
  {
   "cell_type": "code",
   "execution_count": 2,
   "metadata": {},
   "outputs": [
    {
     "name": "stdout",
     "output_type": "stream",
     "text": [
      " As a full stack web developer, artificial intelligence (AI) plays several crucial roles that significantly enhance the development process and end-user experience. Here are some key areas where AI intersects with full stack web development:\n",
      "\n",
      "1. Automation of repetitive tasks: AI can help automate mundane and repetitive programming tasks, such as code refactoring, bug fixing, and deployment processes. This frees up developers to focus on more complex challenges and innovative features.\n",
      "\n",
      "2. Personalization & Recommendations: AI-powered personalization algorithms analyze user data and preferences to provide customized content, recommendations, and user experiences. For example, a site could suggest products or articles based on the user's browsing history and behavior.\n",
      "\n",
      "3. Enhanced Search Engines: Machine learning can improve search functionalities by understanding natural language queries and retrieving more accurate results. This not only enhances user experience but also helps developers build better-performing front-end applications with advanced features like auto-complete, predictive text, and dynamic search filters.\n",
      "\n",
      "4. Chatbots & Virtual Assistants: AI is used to create conversational interfaces that interact with users in a natural way using techniques such as Natural Language Processing (NLP). Developers can integrate chatbots into their applications for tasks like customer support or handling common queries, thus reducing wait times and improving user experience.\n",
      "\n",
      "5. Image & Speech Recognition: AI-driven image and speech recognition technologies help in creating more interactive applications that allow users to communicate with the application using voice commands (speech-to-text conversion) or visually navigate through images. For example, developers can build photo galleries where users interact with images by describing them instead of clicking on buttons.\n",
      "\n",
      "6. Predictive Analytics: AI and machine learning algorithms analyze user behavior patterns to provide predictions about future actions, such as suggesting relevant products/services or predicting user engagement. This information helps full stack web developers design more effective marketing strategies, product recommendations, and targeted advertising campaigns.\n",
      "\n",
      "7. Test Automation: AI-based tools can automatically generate test cases for applications by analyzing code logic, dependencies, and functionalities. By doing so, they help save time on writing manual tests while ensuring a higher level of accuracy in the testing process.\n",
      "\n",
      "8. Natural Language Generation (NLG): AI techniques like NLG allow developers to generate human-like textual content from data or structured information. This technology can be used for generating news summaries, personalized product descriptions, and even customizing emails sent to users based on their preferences.\n",
      "\n",
      "9. Enhanced Security: Machine learning algorithms are increasingly being employed in security applications such as anomaly detection (detecting unusual behavior that could indicate a cyber attack), spam filtering, and malware detection. This helps full stack web developers create more secure web applications with fewer vulnerabilities.\n",
      "\n",
      "10. DevOps Automation: AI can be used to automate various aspects of the deployment process, such as environment setup, configuration management, monitoring system health, and scaling resources according to user demand.\n",
      "\n",
      "In conclusion, the integration of AI in full stack web development helps create more efficient, innovative, and engaging applications that cater to modern-day consumer demands while simplifying developers' workload. As AI continues to evolve, its role within this field will expand even further, presenting endless possibilities for enhancing user experiences and streamlining the development process.\n"
     ]
    }
   ],
   "source": [
    "response: ChatResponse = chat(\n",
    "    #model='deepseek-coder-v2', # try llama3.2 if deepseek-coder-v2 is taking too much VRAM or time\n",
    "    model='phi3', # try llama3.2 if deepseek-coder-v2 is taking too much VRAM or time\n",
    "    messages=[\n",
    "        {\n",
    "            'role': 'user',\n",
    "            'content': 'What role do AI play for Full Stack Web Developers?'\n",
    "        }\n",
    "    ]\n",
    ")\n",
    "\n",
    "print(response.message.content)"
   ]
  },
  {
   "cell_type": "markdown",
   "metadata": {},
   "source": [
    "For more advanced usage, refer to the [ollama-python documentation](https://github.com/ollama/ollama-python)."
   ]
  },
  {
   "cell_type": "markdown",
   "metadata": {},
   "source": [
    "# Using Ollama via OpenAI API"
   ]
  },
  {
   "cell_type": "code",
   "execution_count": 4,
   "metadata": {},
   "outputs": [],
   "source": [
    "import openai"
   ]
  },
  {
   "cell_type": "code",
   "execution_count": 10,
   "metadata": {},
   "outputs": [
    {
     "name": "stdout",
     "output_type": "stream",
     "text": [
      " Artificial Intelligence (AI) and its integration into web development have become increasingly significant, particularly for full stack web developers. Here are some key roles AI plays in the realm of full stack web development:\n",
      "\n",
      "1. **Automating Tasks**: AI can automate repetitive or mundane tasks such as code optimization, debugging, and testing, which makes developers more efficient by freeing up their time to focus on more creative and strategic aspects of the project.\n",
      "\n",
      "2. **Personalization**: With machine learning algorithms, full stack web developers can create websites that adapt and personalize content according to user preferences and behaviors. This enhances用户体验 (user experience) and encourages engagement.\n",
      "\n",
      "3. **Predictive Analytics**: AI helps in analyzing data from previous projects or real-time analytics to predict trends, market demands, and customer behavior, which can aid in better decision making and strategic planning for future web development projects.\n",
      "\n",
      "4. **Enhancing Security**: AI is being used to enhance security mechanisms on websites by identifying suspicious patterns of behavior that could indicate cyber threats or attacks. This proactive approach helps protect both the website infrastructure and user data from malicious activities.\n",
      "\n",
      "5. **Natural Language Processing (NLP)**: AI can be leveraged for NLP tasks which involve automatic translation services, chatbots, and virtual assistants to provide better customer interaction without the need for human intervention around the clock.\n",
      "\n",
      "6. **Optimizing Website Performance with Machine Learning Models:** By using machine learning algorithms, developers are able to increase site load speeds, reduce bounce rates, provide faster results when searching or browsing content tailored more effectively towards user preferences—ultimately improving rankings on search engines and enhancing overall online presence metrics significantly over time without any manual intervention required (as long as proper data feeds continue).\n",
      "\n",
      "7. **Code Optimization and Generation**: AI can assist in suggesting optimizations for code performance, suggest new coding standards based on previously seen/written patterns, or even automatically write parts of the code when certain conditions are met which could make development faster especially under time pressure situations where speed matters more than perfection at times during iterative agile methodologies used today.\n",
      "\n",
      "8. **Innovation and Creativity**: AI can aid full stack web developers in generating innovative ideas for user interface design, new features, or overall conceptual frameworks that might have not been considered without AI's assistance. This can lead to unique digital products never seen before within the same niche market while also improving conversion rates through better UX designs tailored specifically towards human psychology more deeply ingrained than ever thanks largely in part because of technological advancements facilitated via modern machine learning techniques now accessible even relatively small businesses looking for competitive advantages over larger established players online today.\n",
      "\n",
      "It's important to note that although AI can significantly enhance productivity and performance, it cannot entirely replace the creativity, critical thinking skills, and overall expertise a full stack web developer brings to the table. Therefore, combining human insights with AI capabilities is often seen as the optimal approach by many technology experts in the industry today.\n"
     ]
    }
   ],
   "source": [
    "client = openai.OpenAI(\n",
    "    base_url='http://localhost:11434/v1/',\n",
    "    api_key='ollama',\n",
    ")\n",
    "\n",
    "response = client.chat.completions.create(\n",
    "    messages=[\n",
    "        {\n",
    "            'role': 'user',\n",
    "            'content': 'What role do AI play for Full Stack Web Developers?'\n",
    "        }\n",
    "    ],\n",
    "    model='deepseek-coder-v2',\n",
    ")\n",
    "\n",
    "print(response.choices[0].message.content)"
   ]
  },
  {
   "cell_type": "markdown",
   "metadata": {},
   "source": [
    "## Getting Structured Outputs from LLMs\n",
    "``pydantic`` comes to the rescue"
   ]
  },
  {
   "cell_type": "code",
   "execution_count": 11,
   "metadata": {},
   "outputs": [],
   "source": [
    "from pydantic import BaseModel\n",
    "class Response(BaseModel):\n",
    "    id: int\n",
    "    heading: str\n",
    "    content: str\n",
    "\n",
    "class Responses(BaseModel):\n",
    "    responses: list[Response]\n",
    "\n",
    "client = openai.OpenAI(\n",
    "    base_url='http://localhost:11434/v1/',\n",
    "    api_key='ollama',\n",
    ")\n",
    "\n",
    "response = client.beta.chat.completions.parse(\n",
    "    messages=[\n",
    "        {\n",
    "            'role': 'user',\n",
    "            'content': 'What role do AI play for Full Stack Web Developers?'\n",
    "        }\n",
    "    ],\n",
    "    model='deepseek-coder-v2',\n",
    "    response_format=Responses\n",
    ")"
   ]
  },
  {
   "cell_type": "code",
   "execution_count": 16,
   "metadata": {},
   "outputs": [
    {
     "data": {
      "text/plain": [
       "{'responses': [{'id': 45,\n",
       "   'heading': 'AI in Full Stack Web Development',\n",
       "   'content': \"Artificial Intelligence (AI) has become an integral part of modern web development. For full stack web developers, incorporating AI can greatly enhance their ability to create personalized and adaptive user experiences. Here's how AI plays a significant role:\"},\n",
       "  {'id': 46,\n",
       "   'heading': '1. Personalization',\n",
       "   'content': 'AI helps in personalizing the web experience for users based on their preferences, past interactions, and real-time data analysis. This can be achieved through machine learning algorithms that adapt to user behavior and provide tailored content or recommendations.'},\n",
       "  {'id': 47,\n",
       "   'heading': '2. Automation of Tasks',\n",
       "   'content': 'Certain repetitive tasks in web development can be automated using AI. For example, chatbots built with AI can handle customer support inquiries effectively without the need for human intervention. This frees up time for developers to focus on more complex issues and innovations.'},\n",
       "  {'id': 48,\n",
       "   'heading': '3. Optimization',\n",
       "   'content': 'AI-powered analytics help in optimizing website performance by analyzing user data to identify potential bottlenecks or areas that need improvement. Algorithms can adjust load times, improve database queries, and enhance overall efficiency based on AI insights.'},\n",
       "  {'id': 49,\n",
       "   'heading': '4. Predictive Maintenance',\n",
       "   'content': 'AI models can predict web application issues before they become major problems by analyzing patterns and usage data. This proactive approach ensures that any potential errors or downtimes are identified and resolved swiftly, enhancing the overall reliability of the applications.'},\n",
       "  {'id': 50,\n",
       "   'heading': '5. Security',\n",
       "   'content': 'AI technologies such as machine learning can be used to detect anomalies and potential threats in real-time, helping developers enhance web application security by proactively identifying risks and vulnerabilities that might be exploited by hackers.'}]}"
      ]
     },
     "execution_count": 16,
     "metadata": {},
     "output_type": "execute_result"
    }
   ],
   "source": [
    "import json\n",
    "json.loads(response.choices[0].message.content)"
   ]
  }
 ],
 "metadata": {
  "kernelspec": {
   "display_name": "geo",
   "language": "python",
   "name": "python3"
  },
  "language_info": {
   "codemirror_mode": {
    "name": "ipython",
    "version": 3
   },
   "file_extension": ".py",
   "mimetype": "text/x-python",
   "name": "python",
   "nbconvert_exporter": "python",
   "pygments_lexer": "ipython3",
   "version": "3.12.8"
  }
 },
 "nbformat": 4,
 "nbformat_minor": 2
}
