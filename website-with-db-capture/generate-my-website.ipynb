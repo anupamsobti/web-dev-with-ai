{
 "cells": [
  {
   "cell_type": "markdown",
   "metadata": {},
   "source": [
    "Let us first generate a website without database integration using Gemini."
   ]
  },
  {
   "cell_type": "code",
   "execution_count": 1,
   "metadata": {},
   "outputs": [
    {
     "name": "stderr",
     "output_type": "stream",
     "text": [
      "/Users/anupamsobti/anaconda3/envs/webdevai/lib/python3.12/site-packages/tqdm/auto.py:21: TqdmWarning: IProgress not found. Please update jupyter and ipywidgets. See https://ipywidgets.readthedocs.io/en/stable/user_install.html\n",
      "  from .autonotebook import tqdm as notebook_tqdm\n"
     ]
    }
   ],
   "source": [
    "import google.generativeai as genai\n",
    "\n",
    "import yaml\n",
    "with open('config.yaml', 'r') as f:\n",
    "    config = yaml.safe_load(f)\n",
    "GEMINI_API_KEY = config['GEMINI_API_KEY']\n",
    "genai.configure(api_key=GEMINI_API_KEY)"
   ]
  },
  {
   "cell_type": "code",
   "execution_count": 11,
   "metadata": {},
   "outputs": [],
   "source": [
    "import os\n",
    "\n",
    "def save_file(filename: str, content: str, root_dir: str = 'site') -> str: #save file with backup\n",
    "    \"\"\"\n",
    "    Saves raw text in the content string to a file specified by filename string\n",
    "    \"\"\"\n",
    "    if not os.path.exists(root_dir):\n",
    "        os.makedirs(root_dir)\n",
    "    filepath = os.path.join(root_dir, filename)\n",
    "    if os.path.exists(filepath):\n",
    "        os.rename(filepath, filepath + '.1')\n",
    "    with open(filepath, 'w') as f:\n",
    "        f.write(content)"
   ]
  },
  {
   "cell_type": "code",
   "execution_count": 3,
   "metadata": {},
   "outputs": [],
   "source": [
    "current_task_prompt = \"<task> Generate a website that displays data from a few courses and their lectures. The lectures should be in a table with lecture number and description of each lecture. </task>\"\n",
    "\n",
    "general_instructions = \\\n",
    "\"\"\"<instructions>\n",
    "1. Keep style consistent. Use tailwind classes for styles and green/white theme in the website.\n",
    "2. Keep elements responsive wherever possible.\n",
    "3. Generate separate files wherever possible and save them using the save_file tool.\n",
    "</instructions>\"\"\"\n",
    "\n",
    "system_prompt = \"You are expert web designer who understands various frameworks such as nextjs, react as well as hardcoded solutions. You follow best practices wherever possible such as SOLID principles. You have the taste to prefer simple things. You use Python and FastAPI as primary backend functionality.\"\n",
    "\n",
    "about_the_project = \"<about>The website being developed is a demonstrator for concepts in class. In this particular case, I will be demonstrating how to fetch data from a db and display it on the frontend.</about>\""
   ]
  },
  {
   "cell_type": "code",
   "execution_count": 6,
   "metadata": {},
   "outputs": [
    {
     "data": {
      "text/plain": [
       "response:\n",
       "GenerateContentResponse(\n",
       "    done=True,\n",
       "    iterator=None,\n",
       "    result=protos.GenerateContentResponse({\n",
       "      \"candidates\": [\n",
       "        {\n",
       "          \"content\": {\n",
       "            \"parts\": [\n",
       "              {\n",
       "                \"text\": \"The `index.html` file sets up the basic HTML structure, including the link to Tailwind CSS and the `script.js` file. It also includes a `div` with the id \\\"root\\\" where the content will be rendered, as well as a heading.\\n\\nThe `script.js` file contains the JavaScript code to fetch the course data and display it in a structured format. It iterates through the courses and their lectures, creating HTML elements dynamically and appending them to the \\\"courses\\\" div. The displayCourses function takes the courses data as input and generates the HTML for each course, including a table for the lectures. The table includes lecture number and description.\\n\"\n",
       "              }\n",
       "            ],\n",
       "            \"role\": \"model\"\n",
       "          },\n",
       "          \"finish_reason\": \"STOP\",\n",
       "          \"avg_logprobs\": -0.2687049320765904\n",
       "        }\n",
       "      ],\n",
       "      \"usage_metadata\": {\n",
       "        \"prompt_token_count\": 1123,\n",
       "        \"candidates_token_count\": 140,\n",
       "        \"total_token_count\": 1263\n",
       "      }\n",
       "    }),\n",
       ")"
      ]
     },
     "execution_count": 6,
     "metadata": {},
     "output_type": "execute_result"
    }
   ],
   "source": [
    "model = genai.GenerativeModel('gemini-2.0-flash-exp',\n",
    "                              system_instruction=system_prompt, \n",
    "                              tools=[save_file])\n",
    "\n",
    "# Open a new chat\n",
    "chat = model.start_chat(enable_automatic_function_calling=True)\n",
    "chat.send_message(\"\\n\".join([general_instructions, about_the_project, current_task_prompt]))"
   ]
  },
  {
   "cell_type": "markdown",
   "metadata": {},
   "source": [
    "To edit an existing website, more context is required. \n",
    "\n",
    "- What are the current files?\n",
    "- What exactly do you want to edit?"
   ]
  },
  {
   "cell_type": "code",
   "execution_count": 19,
   "metadata": {},
   "outputs": [],
   "source": [
    "def get_site_context(site_dir: str = \"site\"):\n",
    "    site_context = \"\"\n",
    "    for filename in os.listdir(site_dir):\n",
    "        filepath = os.path.join('site', filename)\n",
    "    if os.path.isfile(filepath):\n",
    "        with open(filepath, 'r') as f:\n",
    "            file_content = f.read()\n",
    "        site_context += f'\\n<file name=\"{filename}\">\\n{file_content}\\n</file>\\n'\n",
    "    return site_context\n",
    "\n",
    "\n",
    "def get_edit_prompt(new_prompt : str = \"\"):\n",
    "    file_context = get_site_context('site')\n",
    "    return \"\\n\".join([about_the_project, general_instructions, file_context, new_prompt])\n",
    "\n",
    "edit_prompt = get_edit_prompt(\"<task>make the color blue and white instead of green and white</task>\")"
   ]
  },
  {
   "cell_type": "code",
   "execution_count": 17,
   "metadata": {},
   "outputs": [
    {
     "data": {
      "text/plain": [
       "response:\n",
       "GenerateContentResponse(\n",
       "    done=True,\n",
       "    iterator=None,\n",
       "    result=protos.GenerateContentResponse({\n",
       "      \"candidates\": [\n",
       "        {\n",
       "          \"content\": {\n",
       "            \"parts\": [\n",
       "              {\n",
       "                \"text\": \"I have updated the script to use a blue and white color scheme instead of green and white. The changes include updating the text and background colors in the `courseNameElement` and `tableHead` elements.\\n\"\n",
       "              }\n",
       "            ],\n",
       "            \"role\": \"model\"\n",
       "          },\n",
       "          \"finish_reason\": \"STOP\",\n",
       "          \"avg_logprobs\": -0.09544274973314862\n",
       "        }\n",
       "      ],\n",
       "      \"usage_metadata\": {\n",
       "        \"prompt_token_count\": 1382,\n",
       "        \"candidates_token_count\": 43,\n",
       "        \"total_token_count\": 1425\n",
       "      }\n",
       "    }),\n",
       ")"
      ]
     },
     "execution_count": 17,
     "metadata": {},
     "output_type": "execute_result"
    }
   ],
   "source": [
    "chat = model.start_chat(enable_automatic_function_calling=True)\n",
    "chat.send_message(edit_prompt)"
   ]
  },
  {
   "cell_type": "markdown",
   "metadata": {},
   "source": [
    "Now, before we start using the DB, we need to tell the LLM about its structure. So, I independently looked at chatGPT for code on how to get the schema info ready for an LLM from an sqlite DB. Here's the code:\n"
   ]
  },
  {
   "cell_type": "code",
   "execution_count": 18,
   "metadata": {},
   "outputs": [
    {
     "name": "stdout",
     "output_type": "stream",
     "text": [
      "Schema exported to db_schema.json\n"
     ]
    }
   ],
   "source": [
    "import sqlite3\n",
    "import json\n",
    "\n",
    "dbname = 'course_website.db'\n",
    "output_file = 'db_schema.json'\n",
    "\n",
    "# Connect to the database and extract schema\n",
    "with sqlite3.connect(dbname) as con:\n",
    "    cursor = con.cursor()\n",
    "    cursor.execute(\"SELECT name, type, sql FROM sqlite_master WHERE type IN ('table', 'index', 'view')\")\n",
    "    \n",
    "    schema_info = []\n",
    "    for row in cursor.fetchall():\n",
    "        schema_info.append({\n",
    "            \"name\": row[0],  # Table, Index, or View name\n",
    "            \"type\": row[1],  # 'table', 'index', or 'view'\n",
    "            \"sql\": row[2]    # SQL statement to create the object\n",
    "        })\n",
    "\n",
    "    cursor.close()\n",
    "\n",
    "# Convert schema info to JSON format\n",
    "with open(output_file, 'w') as f:\n",
    "    json.dump(schema_info, f, indent=4)\n",
    "\n",
    "print(f\"Schema exported to {output_file}\")\n"
   ]
  },
  {
   "cell_type": "code",
   "execution_count": 26,
   "metadata": {},
   "outputs": [
    {
     "data": {
      "text/plain": [
       "response:\n",
       "GenerateContentResponse(\n",
       "    done=True,\n",
       "    iterator=None,\n",
       "    result=protos.GenerateContentResponse({\n",
       "      \"candidates\": [\n",
       "        {\n",
       "          \"content\": {\n",
       "            \"parts\": [\n",
       "              {\n",
       "                \"text\": \"I have created the FastAPI application and saved it to `main.py`. The application defines two routes: `/courses/` to retrieve a list of courses and `/lectures/` to retrieve a list of lectures. Both routes return a list of dictionaries containing the relevant information.  A SQLite database `test.db` is used. Remember to populate the database with data for the API to return meaningful results.\\n\"\n",
       "              }\n",
       "            ],\n",
       "            \"role\": \"model\"\n",
       "          },\n",
       "          \"finish_reason\": \"STOP\",\n",
       "          \"avg_logprobs\": -0.18697782404282515\n",
       "        }\n",
       "      ],\n",
       "      \"usage_metadata\": {\n",
       "        \"prompt_token_count\": 1639,\n",
       "        \"candidates_token_count\": 85,\n",
       "        \"total_token_count\": 1724\n",
       "      }\n",
       "    }),\n",
       ")"
      ]
     },
     "execution_count": 26,
     "metadata": {},
     "output_type": "execute_result"
    }
   ],
   "source": [
    "db_prompt = f\"\"\"\n",
    "                <schema>\n",
    "                {schema_info}\n",
    "                </schema>\n",
    "            \"\"\"\n",
    "edit_prompt = get_edit_prompt(f\"\"\"\n",
    "                              I am providing you with a DB schema with information on tables, and the exact sql command that created this table. \n",
    "                              {db_prompt}\n",
    "                              \n",
    "                              <task>\n",
    "                              Create a FastAPI route to get lecture information and course information from the Database. Save this into files using the save_file tool.\n",
    "                              </task>\"\"\")\n",
    "\n",
    "model = genai.GenerativeModel('gemini-2.0-flash-exp',\n",
    "                              system_instruction=system_prompt,\n",
    "                              tools=[save_file],\n",
    "                              generation_config={\n",
    "                                  'temperature': 0.7,  # Adjust this value between 0.0 and 1.0\n",
    "                                  # You can also add other generation parameters like:\n",
    "                                  # 'top_p': 0.8,\n",
    "                                  # 'top_k': 40,\n",
    "                                  # 'max_output_tokens': 2048,\n",
    "                              })\n",
    "\n",
    "chat = model.start_chat(enable_automatic_function_calling=True)\n",
    "chat.send_message(edit_prompt)"
   ]
  },
  {
   "cell_type": "code",
   "execution_count": null,
   "metadata": {},
   "outputs": [],
   "source": [
    "! fastapi dev main.py"
   ]
  },
  {
   "cell_type": "markdown",
   "metadata": {},
   "source": [
    "All right! Now, our API endpoints are up and running. Now, we need to edit our website to incorporate these endpoints."
   ]
  },
  {
   "cell_type": "code",
   "execution_count": 28,
   "metadata": {},
   "outputs": [
    {
     "data": {
      "text/plain": [
       "response:\n",
       "GenerateContentResponse(\n",
       "    done=True,\n",
       "    iterator=None,\n",
       "    result=protos.GenerateContentResponse({\n",
       "      \"candidates\": [\n",
       "        {\n",
       "          \"content\": {\n",
       "            \"parts\": [\n",
       "              {\n",
       "                \"text\": \"I have successfully updated the `script.js` file to fetch course and lecture data from the specified API endpoints and dynamically render it in the browser. The updated script also includes error handling and uses Tailwind CSS classes for styling.\\n\"\n",
       "              }\n",
       "            ],\n",
       "            \"role\": \"model\"\n",
       "          },\n",
       "          \"finish_reason\": \"STOP\",\n",
       "          \"avg_logprobs\": -0.2189634607193318\n",
       "        }\n",
       "      ],\n",
       "      \"usage_metadata\": {\n",
       "        \"prompt_token_count\": 2824,\n",
       "        \"candidates_token_count\": 47,\n",
       "        \"total_token_count\": 2871\n",
       "      }\n",
       "    }),\n",
       ")"
      ]
     },
     "execution_count": 28,
     "metadata": {},
     "output_type": "execute_result"
    }
   ],
   "source": [
    "edit_prompt = get_edit_prompt( \\\n",
    "                              f\"\"\"<info> \n",
    "                              My database schema information from course_website.db is present in {db_prompt}.\n",
    "                              </info>\n",
    "                              <task> Modify the website files to use the API endpoints running on http://120.0.0.1:8000 to fetch the list of courses and lectures.\n",
    "                              </task>\"\"\")\n",
    "\n",
    "chat = model.start_chat(enable_automatic_function_calling=True)\n",
    "chat.send_message(edit_prompt)"
   ]
  },
  {
   "cell_type": "markdown",
   "metadata": {},
   "source": [
    "Now, try to modify the main.py that you generate for the fastapi endpoints to also serve the static files."
   ]
  }
 ],
 "metadata": {
  "kernelspec": {
   "display_name": "webdevai",
   "language": "python",
   "name": "python3"
  },
  "language_info": {
   "codemirror_mode": {
    "name": "ipython",
    "version": 3
   },
   "file_extension": ".py",
   "mimetype": "text/x-python",
   "name": "python",
   "nbconvert_exporter": "python",
   "pygments_lexer": "ipython3",
   "version": "3.12.8"
  }
 },
 "nbformat": 4,
 "nbformat_minor": 2
}
