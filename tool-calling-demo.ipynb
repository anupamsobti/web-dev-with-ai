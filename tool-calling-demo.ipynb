{
 "cells": [
  {
   "cell_type": "markdown",
   "metadata": {},
   "source": [
    "# Using Gemini API to Generate a Simple Webpage"
   ]
  },
  {
   "cell_type": "code",
   "execution_count": 5,
   "metadata": {},
   "outputs": [],
   "source": [
    "import google.generativeai as genai\n",
    "import yaml\n",
    "with open('config.yaml', 'r') as f:\n",
    "    config = yaml.safe_load(f)\n",
    "GEMINI_API_KEY = config['GEMINI_API_KEY']\n",
    "genai.configure(api_key=GEMINI_API_KEY)"
   ]
  },
  {
   "cell_type": "code",
   "execution_count": 2,
   "metadata": {},
   "outputs": [
    {
     "data": {
      "text/plain": [
       "genai.GenerativeModel(\n",
       "    model_name='models/gemini-2.0-flash-exp',\n",
       "    generation_config={},\n",
       "    safety_settings={},\n",
       "    tools=<google.generativeai.types.content_types.FunctionLibrary object at 0x0000023136AFF770>,\n",
       "    system_instruction=None,\n",
       "    cached_content=None\n",
       ")"
      ]
     },
     "execution_count": 2,
     "metadata": {},
     "output_type": "execute_result"
    }
   ],
   "source": [
    "def save_file(filename: str, content: str) -> str:\n",
    "    \"\"\"\n",
    "    Saves raw text in the content string to a file specified by filename string\n",
    "    \"\"\"\n",
    "    with open(filename, 'w') as f:\n",
    "        f.write(content)\n",
    "\n",
    "model = genai.GenerativeModel('gemini-2.0-flash-exp',tools=[save_file])\n",
    "model"
   ]
  },
  {
   "cell_type": "code",
   "execution_count": 80,
   "metadata": {},
   "outputs": [
    {
     "data": {
      "text/plain": [
       "response:\n",
       "GenerateContentResponse(\n",
       "    done=True,\n",
       "    iterator=None,\n",
       "    result=protos.GenerateContentResponse({\n",
       "      \"candidates\": [\n",
       "        {\n",
       "          \"content\": {\n",
       "            \"parts\": [\n",
       "              {\n",
       "                \"text\": \"The files `index.html`, `style.css`, and `script.js` have been created and saved. You can now open `index.html` in a browser to view the landing page.\\n\"\n",
       "              }\n",
       "            ],\n",
       "            \"role\": \"model\"\n",
       "          },\n",
       "          \"finish_reason\": \"STOP\",\n",
       "          \"safety_ratings\": [\n",
       "            {\n",
       "              \"category\": \"HARM_CATEGORY_HATE_SPEECH\",\n",
       "              \"probability\": \"NEGLIGIBLE\"\n",
       "            },\n",
       "            {\n",
       "              \"category\": \"HARM_CATEGORY_DANGEROUS_CONTENT\",\n",
       "              \"probability\": \"NEGLIGIBLE\"\n",
       "            },\n",
       "            {\n",
       "              \"category\": \"HARM_CATEGORY_HARASSMENT\",\n",
       "              \"probability\": \"NEGLIGIBLE\"\n",
       "            },\n",
       "            {\n",
       "              \"category\": \"HARM_CATEGORY_SEXUALLY_EXPLICIT\",\n",
       "              \"probability\": \"NEGLIGIBLE\"\n",
       "            }\n",
       "          ],\n",
       "          \"avg_logprobs\": -0.05621252503505973\n",
       "        }\n",
       "      ],\n",
       "      \"usage_metadata\": {\n",
       "        \"prompt_token_count\": 1604,\n",
       "        \"candidates_token_count\": 43,\n",
       "        \"total_token_count\": 1647\n",
       "      }\n",
       "    }),\n",
       ")"
      ]
     },
     "execution_count": 80,
     "metadata": {},
     "output_type": "execute_result"
    }
   ],
   "source": [
    "prompt = \"\"\"\n",
    "Task: Generate code (HTML, CSS, JS) for a visually appealing landing page for a \"Web Dev with AI Lab\" intro class.\n",
    "\n",
    "Goal: Create an engaging and motivating start for students.\n",
    "\n",
    "Page Elements:\n",
    "\n",
    "    * **Welcome:** A clear, inviting heading: \"Welcome to Web Dev with AI Lab\"\n",
    "    * **Interactive \"Begin\" Button:**\n",
    "        *  Text: \"Begin\"\n",
    "        *  Position: \"center\"\n",
    "        *  On click: Trigger a fun \"hooray\" animation.\n",
    "        *  After animation:  Show a new screen/content saying \"Let the game Begin!\" replacing the \"Begin\" button.\n",
    "    * **Aesthetic:**  Use a vibrant and modern color scheme soothing to eyes.\n",
    "\n",
    "Note: Use the save_file tool to save each file, ensuring proper file references.\n",
    "\"\"\"\n",
    "\n",
    "chat = model.start_chat(enable_automatic_function_calling=True)\n",
    "chat.send_message(prompt)"
   ]
  },
  {
   "cell_type": "markdown",
   "metadata": {},
   "source": [
    "# Using Ollama OpenAI API to Generate a Simple Webpage"
   ]
  },
  {
   "cell_type": "code",
   "execution_count": 79,
   "metadata": {},
   "outputs": [],
   "source": [
    "from ollama import chat,ChatResponse\n",
    "\n",
    "prompt = \"\"\"\n",
    "Task: Generate code (HTML, CSS, JS) for a visually appealing landing page for a \"Web Dev with AI Lab\" intro class.\n",
    "\n",
    "Goal: Create an engaging and motivating start for students.\n",
    "\n",
    "Page Elements:\n",
    "\n",
    "    * **Welcome:** A clear, inviting heading: \"Welcome to Web Dev with AI Lab\"\n",
    "    * **Interactive \"Begin\" Button:**\n",
    "        *  Text: \"Begin\"\n",
    "        *  Position: \"center\"\n",
    "        *  On click: Trigger a fun \"hooray\" animation.\n",
    "        *  After animation:  Show a new screen/content saying \"Let the game Begin!\" replacing the \"Begin\" button.\n",
    "    * **Aesthetic:**  Use a vibrant and modern color scheme soothing to eyes.\n",
    "\n",
    "Note: Use the save_file tool to save each file, ensuring proper file references.\n",
    "\"\"\"\n",
    "\n",
    "response: ChatResponse = chat(\n",
    "    model='llama3.2', # using llama3.2 because deepseek-coder-v2 do not support tools\n",
    "    messages=[\n",
    "        {\n",
    "            'role': 'user',\n",
    "            'content': prompt\n",
    "        }\n",
    "    ],\n",
    "    tools = [save_file]\n",
    ")\n",
    "\n",
    "for tool_call in response.message.tool_calls or []:\n",
    "  f = globals().get(tool_call.function.name)\n",
    "  args = tool_call.function.arguments\n",
    "  f(**args)"
   ]
  },
  {
   "cell_type": "code",
   "execution_count": null,
   "metadata": {},
   "outputs": [],
   "source": []
  }
 ],
 "metadata": {
  "kernelspec": {
   "display_name": "geo",
   "language": "python",
   "name": "python3"
  },
  "language_info": {
   "codemirror_mode": {
    "name": "ipython",
    "version": 3
   },
   "file_extension": ".py",
   "mimetype": "text/x-python",
   "name": "python",
   "nbconvert_exporter": "python",
   "pygments_lexer": "ipython3",
   "version": "3.12.7"
  }
 },
 "nbformat": 4,
 "nbformat_minor": 2
}
